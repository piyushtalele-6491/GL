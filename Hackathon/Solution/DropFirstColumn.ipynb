{
 "cells": [
  {
   "cell_type": "code",
   "execution_count": 1,
   "metadata": {},
   "outputs": [],
   "source": [
    "import pandas as pd\n",
    "import os\n",
    "import fileinput\n",
    "from dateutil import parser\n",
    "# specifying directory and determining files for my loop \n",
    "path = r'C:\\\\Piyush\\\\Study\\\\Great Learning\\\\Hackathons\\\\Files\\\\SolutionFiles\\\\New'\n",
    "files = [os.path.join(path,data_file) for data_file in sorted(os.listdir(path))]\n",
    "for path in files:\n",
    "    #trying to read each csv file separately and delete columns from it\n",
    "    df = pd.read_csv(path)\n",
    "    # specifying columns to delete\n",
    "    first_column = df.columns[0]\n",
    "    # Delete my columns\n",
    "    df = df.drop([first_column], axis=1)\n",
    "    # trying to overwrite existing files after column removal instead of creating new files i.e. output.csv\n",
    "    df.to_csv(path, index=False)"
   ]
  },
  {
   "cell_type": "code",
   "execution_count": null,
   "metadata": {},
   "outputs": [],
   "source": [
    "import pandas as pd\n",
    "import os, time, datetime\n",
    "import fileinput\n",
    "from dateutil import parser\n",
    "# specifying directory and determining files for my loop \n",
    "path = r'C:\\\\Piyush\\\\Study\\\\Great Learning\\\\Hackathons\\\\Files\\\\SolutionFiles\\\\New'\n",
    "files = [os.path.join(path,data_file) for data_file in sorted(os.listdir(path))]\n",
    "for path in files:\n",
    "    print(\"Modified\")\n",
    "    print(os.path.getmtime(path))\n",
    "\n",
    "    print()\n",
    "\n",
    "    print(\"Created\")\n",
    "    print(os.path.getctime(path))\n",
    "\n",
    "    print()\n",
    "\n",
    "    modified = os.path.getmtime(path)\n",
    "    year,month,day,hour,minute,second=time.localtime(modified)[:-3]\n",
    "    print(\"Date modified: %02d/%02d/%d %02d:%02d:%02d\"%(day,month,year,hour,minute,second))\n",
    "\n",
    "    print()\n",
    "\n",
    "    created = os.path.getctime(path)\n",
    "    year,month,day,hour,minute,second=time.localtime(created)[:-3]\n",
    "    print(\"Date created: %02d/%02d/%d %02d:%02d:%02d\"%(day,month,year,hour,minute,second))\n",
    "    \n",
    "    print()\n",
    "    \n",
    "    print(os.path.)"
   ]
  }
 ],
 "metadata": {
  "kernelspec": {
   "display_name": "Python 3",
   "language": "python",
   "name": "python3"
  },
  "language_info": {
   "codemirror_mode": {
    "name": "ipython",
    "version": 3
   },
   "file_extension": ".py",
   "mimetype": "text/x-python",
   "name": "python",
   "nbconvert_exporter": "python",
   "pygments_lexer": "ipython3",
   "version": "3.7.4"
  }
 },
 "nbformat": 4,
 "nbformat_minor": 2
}
