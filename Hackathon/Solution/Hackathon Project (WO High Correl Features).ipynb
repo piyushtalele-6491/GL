{
 "cells": [
  {
   "cell_type": "code",
   "execution_count": 1,
   "metadata": {
    "executionInfo": {
     "elapsed": 2173,
     "status": "ok",
     "timestamp": 1607321050591,
     "user": {
      "displayName": "Neeraj Tripathi",
      "photoUrl": "https://lh3.googleusercontent.com/a-/AOh14GiG3LuuDAWxS7JhSGXJchBx3AghDOUh5xfiDuVTOO4=s64",
      "userId": "06360701223369622935"
     },
     "user_tz": -330
    },
    "id": "TRqwvh7HHmKw"
   },
   "outputs": [],
   "source": [
    "import pandas as pd\n",
    "import numpy as np\n",
    "import matplotlib.pyplot as plt\n",
    "%matplotlib inline \n",
    "import seaborn as sns\n",
    "import scipy.stats as stats\n",
    "\n",
    "from sklearn import preprocessing\n",
    "from sklearn import metrics\n",
    "from sklearn import model_selection\n",
    "from sklearn import feature_selection\n",
    "\n",
    "from sklearn.preprocessing import StandardScaler\n",
    "\n",
    "from sklearn.tree import DecisionTreeRegressor\n",
    "\n",
    "from sklearn.ensemble import GradientBoostingRegressor\n",
    "from sklearn.ensemble import AdaBoostRegressor\n",
    "from sklearn.ensemble import BaggingRegressor\n",
    "from sklearn.ensemble import RandomForestRegressor\n",
    "from sklearn.ensemble import StackingRegressor\n",
    "from sklearn.ensemble import VotingRegressor\n",
    "#from xgboost import XGBRegressor\n",
    "\n",
    "\n",
    "import warnings\n",
    "warnings.filterwarnings('ignore')\n",
    "from scipy.stats import zscore\n",
    "from datetime import datetime\n",
    "from IPython.display import display\n",
    "pd.set_option('display.max_columns', None)"
   ]
  },
  {
   "cell_type": "code",
   "execution_count": 2,
   "metadata": {},
   "outputs": [],
   "source": [
    "def drop_high_correlations(DataFrame, CorrelationThreshold):\n",
    "    \n",
    "    df_local = DataFrame.copy(deep=True)\n",
    "    \n",
    "    # Create the correlation matrix with absolute values\n",
    "    corr_matrix = df_local.corr().abs()\n",
    "    \n",
    "    # Select upper triangle of correlation matrix\n",
    "    upper = corr_matrix.where(np.triu(np.ones(corr_matrix.shape), k=1).astype(np.bool))\n",
    "    \n",
    "    # Find index of columns with correlation greater than CorrelationThreshold\n",
    "    to_drop = [column for column in upper.columns if any(upper[column] > CorrelationThreshold)]\n",
    "    \n",
    "    # Drop the correlated columns identified above\n",
    "    df_local.drop(to_drop, axis=1, inplace=True)\n",
    "    \n",
    "    return df_local"
   ]
  },
  {
   "cell_type": "code",
   "execution_count": 3,
   "metadata": {
    "executionInfo": {
     "elapsed": 11933,
     "status": "ok",
     "timestamp": 1607321327750,
     "user": {
      "displayName": "Neeraj Tripathi",
      "photoUrl": "https://lh3.googleusercontent.com/a-/AOh14GiG3LuuDAWxS7JhSGXJchBx3AghDOUh5xfiDuVTOO4=s64",
      "userId": "06360701223369622935"
     },
     "user_tz": -330
    },
    "id": "a8ir2HDUHmKx"
   },
   "outputs": [],
   "source": [
    "# Loading the datasets\n",
    "#df_time_train = pd.read_csv('Data/Train/time_domain_features_train.csv')\n",
    "#df_freq_train = pd.read_csv('Data/Train/frequency_domain_features_train.csv')\n",
    "#df_nlf_train = pd.read_csv('Data/Train/heart_rate_non_linear_features_train.csv')\n",
    "\n",
    "#df_time_test = pd.read_csv('Data/Test/time_domain_features_test.csv')\n",
    "#df_freq_test = pd.read_csv('Data/Test/frequency_domain_features_test.csv')\n",
    "#df_nlf_test = pd.read_csv('Data/Test/heart_rate_non_linear_features_test.csv')\n",
    "\n",
    "# df_time = pd.read_csv('/content/drive/MyDrive/PGP-AIML/Hackathon Dec-2020/Data/Train/time_domain_features_train.csv')\n",
    "# df_freq = pd.read_csv('/content/drive/MyDrive/PGP-AIML/Hackathon Dec-2020/Data/Train/frequency_domain_features_train.csv')\n",
    "# df_nlf = pd.read_csv('/content/drive/MyDrive/PGP-AIML/Hackathon Dec-2020/Data/Train/heart_rate_non_linear_features_train.csv')\n",
    "\n",
    "# df_time_test = pd.read_csv('/content/drive/MyDrive/PGP-AIML/Hackathon Dec-2020/Data/Test/time_domain_features_test.csv')\n",
    "# df_freq_test = pd.read_csv('/content/drive/MyDrive/PGP-AIML/Hackathon Dec-2020/Data/Test/frequency_domain_features_test.csv')\n",
    "# df_nlf_test = pd.read_csv('/content/drive/MyDrive/PGP-AIML/Hackathon Dec-2020/Data/Test/heart_rate_non_linear_features_test.csv')\n",
    "df_time_train = pd.read_csv(\"../Files/Train Data/Train Data Zip/time_domain_features_train.csv\")\n",
    "df_freq_train = pd.read_csv(\"../Files/Train Data/Train Data Zip/frequency_domain_features_train.csv\")\n",
    "df_nlf_train = pd.read_csv(\"../Files/Train Data/Train Data Zip/heart_rate_non_linear_features_train.csv\")\n",
    "\n",
    "df_time_test = pd.read_csv('../Files/Test Data/Test Zip/time_domain_features_test.csv')\n",
    "df_freq_test = pd.read_csv('../Files/Test Data/Test Zip/frequency_domain_features_test.csv')\n",
    "df_nlf_test = pd.read_csv('../Files/Test Data/Test Zip/heart_rate_non_linear_features_test.csv')\n",
    "\n",
    "df_test_y = pd.read_csv('C:\\Piyush\\Study\\Great Learning\\Hackathons\\Files\\SolutionFiles\\RandomForestRegressor/0.018414562355024856__RandomForestRegressor__submission_0.2610179.csv')"
   ]
  },
  {
   "cell_type": "code",
   "execution_count": 4,
   "metadata": {
    "executionInfo": {
     "elapsed": 1039,
     "status": "ok",
     "timestamp": 1607321440705,
     "user": {
      "displayName": "Neeraj Tripathi",
      "photoUrl": "https://lh3.googleusercontent.com/a-/AOh14GiG3LuuDAWxS7JhSGXJchBx3AghDOUh5xfiDuVTOO4=s64",
      "userId": "06360701223369622935"
     },
     "user_tz": -330
    },
    "id": "nYuZz5l9HmKx"
   },
   "outputs": [],
   "source": [
    "# Merging all the datasets into one single datasets\n",
    "df_train = pd.concat([df_time_train, df_freq_train, df_nlf_train], axis=1, sort=False)\n",
    "df_test = pd.concat([df_time_test, df_freq_test, df_nlf_test], axis=1, sort=False)"
   ]
  },
  {
   "cell_type": "code",
   "execution_count": 5,
   "metadata": {},
   "outputs": [
    {
     "data": {
      "text/plain": [
       "Index(['MEAN_RR', 'MEDIAN_RR', 'SDRR', 'RMSSD', 'SDSD', 'SDRR_RMSSD', 'HR',\n",
       "       'pNN25', 'pNN50', 'KURT', 'SKEW', 'MEAN_REL_RR', 'MEDIAN_REL_RR',\n",
       "       'SDRR_REL_RR', 'RMSSD_REL_RR', 'SDSD_REL_RR', 'SDRR_RMSSD_REL_RR',\n",
       "       'KURT_REL_RR', 'SKEW_REL_RR', 'uuid', 'uuid', 'VLF', 'VLF_PCT', 'LF',\n",
       "       'LF_PCT', 'LF_NU', 'HF', 'HF_PCT', 'HF_NU', 'TP', 'LF_HF', 'HF_LF',\n",
       "       'uuid', 'SD1', 'SD2', 'sampen', 'higuci', 'datasetId', 'condition'],\n",
       "      dtype='object')"
      ]
     },
     "execution_count": 5,
     "metadata": {},
     "output_type": "execute_result"
    }
   ],
   "source": [
    "df_train.columns"
   ]
  },
  {
   "cell_type": "code",
   "execution_count": 6,
   "metadata": {
    "executionInfo": {
     "elapsed": 982,
     "status": "ok",
     "timestamp": 1607321442913,
     "user": {
      "displayName": "Neeraj Tripathi",
      "photoUrl": "https://lh3.googleusercontent.com/a-/AOh14GiG3LuuDAWxS7JhSGXJchBx3AghDOUh5xfiDuVTOO4=s64",
      "userId": "06360701223369622935"
     },
     "user_tz": -330
    },
    "id": "PdLqb6ypHmKx"
   },
   "outputs": [],
   "source": [
    "# Reordering the columns of the dataframe\n",
    "df_train = df_train[['MEAN_RR', 'MEDIAN_RR', 'SDRR', 'RMSSD', 'SDSD', 'SDRR_RMSSD',\n",
    "       'pNN25', 'pNN50', 'KURT', 'SKEW', 'MEAN_REL_RR', 'MEDIAN_REL_RR',\n",
    "       'SDRR_REL_RR', 'RMSSD_REL_RR', 'SDSD_REL_RR', 'SDRR_RMSSD_REL_RR',\n",
    "       'KURT_REL_RR', 'SKEW_REL_RR', 'VLF', 'VLF_PCT', 'LF',\n",
    "       'LF_PCT', 'LF_NU', 'HF', 'HF_PCT', 'HF_NU', 'TP', 'LF_HF', 'HF_LF',\n",
    "       'SD1', 'SD2', 'sampen', 'higuci', 'datasetId', 'condition', 'HR']]\n",
    "\n",
    "\n",
    "df_test = df_test[['MEAN_RR', 'MEDIAN_RR', 'SDRR', 'RMSSD', 'SDSD', 'SDRR_RMSSD',\n",
    "       'pNN25', 'pNN50', 'KURT', 'SKEW', 'MEAN_REL_RR', 'MEDIAN_REL_RR',\n",
    "       'SDRR_REL_RR', 'RMSSD_REL_RR', 'SDSD_REL_RR', 'SDRR_RMSSD_REL_RR',\n",
    "       'KURT_REL_RR', 'SKEW_REL_RR', 'VLF', 'VLF_PCT', 'LF',\n",
    "       'LF_PCT', 'LF_NU', 'HF', 'HF_PCT', 'HF_NU', 'TP', 'LF_HF', 'HF_LF',\n",
    "       'SD1', 'SD2', 'sampen', 'higuci', 'datasetId', 'condition']]\n"
   ]
  },
  {
   "cell_type": "code",
   "execution_count": 7,
   "metadata": {
    "colab": {
     "base_uri": "https://localhost:8080/"
    },
    "executionInfo": {
     "elapsed": 852,
     "status": "ok",
     "timestamp": 1607321446422,
     "user": {
      "displayName": "Neeraj Tripathi",
      "photoUrl": "https://lh3.googleusercontent.com/a-/AOh14GiG3LuuDAWxS7JhSGXJchBx3AghDOUh5xfiDuVTOO4=s64",
      "userId": "06360701223369622935"
     },
     "user_tz": -330
    },
    "id": "0ZOqvLrcHmKx",
    "outputId": "61b6ded4-659c-4944-df32-eb0255abe1a0"
   },
   "outputs": [
    {
     "name": "stdout",
     "output_type": "stream",
     "text": [
      "<class 'pandas.core.frame.DataFrame'>\n",
      "RangeIndex: 369289 entries, 0 to 369288\n",
      "Data columns (total 36 columns):\n",
      "MEAN_RR              369289 non-null float64\n",
      "MEDIAN_RR            369289 non-null float64\n",
      "SDRR                 369289 non-null float64\n",
      "RMSSD                369289 non-null float64\n",
      "SDSD                 369289 non-null float64\n",
      "SDRR_RMSSD           369289 non-null float64\n",
      "pNN25                369289 non-null float64\n",
      "pNN50                369289 non-null float64\n",
      "KURT                 369289 non-null float64\n",
      "SKEW                 369289 non-null float64\n",
      "MEAN_REL_RR          369289 non-null float64\n",
      "MEDIAN_REL_RR        369289 non-null float64\n",
      "SDRR_REL_RR          369289 non-null float64\n",
      "RMSSD_REL_RR         369289 non-null float64\n",
      "SDSD_REL_RR          369289 non-null float64\n",
      "SDRR_RMSSD_REL_RR    369289 non-null float64\n",
      "KURT_REL_RR          369289 non-null float64\n",
      "SKEW_REL_RR          369289 non-null float64\n",
      "VLF                  369289 non-null float64\n",
      "VLF_PCT              369289 non-null float64\n",
      "LF                   369289 non-null float64\n",
      "LF_PCT               369289 non-null float64\n",
      "LF_NU                369289 non-null float64\n",
      "HF                   369289 non-null float64\n",
      "HF_PCT               369289 non-null float64\n",
      "HF_NU                369289 non-null float64\n",
      "TP                   369289 non-null float64\n",
      "LF_HF                369289 non-null float64\n",
      "HF_LF                369289 non-null float64\n",
      "SD1                  369289 non-null float64\n",
      "SD2                  369289 non-null float64\n",
      "sampen               369289 non-null float64\n",
      "higuci               369289 non-null float64\n",
      "datasetId            369289 non-null int64\n",
      "condition            369289 non-null object\n",
      "HR                   369289 non-null float64\n",
      "dtypes: float64(34), int64(1), object(1)\n",
      "memory usage: 101.4+ MB\n"
     ]
    }
   ],
   "source": [
    "df_train.info()"
   ]
  },
  {
   "cell_type": "code",
   "execution_count": 8,
   "metadata": {
    "colab": {
     "base_uri": "https://localhost:8080/",
     "height": 482
    },
    "executionInfo": {
     "elapsed": 1079,
     "status": "ok",
     "timestamp": 1607321450755,
     "user": {
      "displayName": "Neeraj Tripathi",
      "photoUrl": "https://lh3.googleusercontent.com/a-/AOh14GiG3LuuDAWxS7JhSGXJchBx3AghDOUh5xfiDuVTOO4=s64",
      "userId": "06360701223369622935"
     },
     "user_tz": -330
    },
    "id": "EPfEfbZPHmKy",
    "outputId": "7ecbac65-4d6b-43ce-a52d-cbdb6f1bb8ee"
   },
   "outputs": [
    {
     "data": {
      "text/html": [
       "<div>\n",
       "<style scoped>\n",
       "    .dataframe tbody tr th:only-of-type {\n",
       "        vertical-align: middle;\n",
       "    }\n",
       "\n",
       "    .dataframe tbody tr th {\n",
       "        vertical-align: top;\n",
       "    }\n",
       "\n",
       "    .dataframe thead th {\n",
       "        text-align: right;\n",
       "    }\n",
       "</style>\n",
       "<table border=\"1\" class=\"dataframe\">\n",
       "  <thead>\n",
       "    <tr style=\"text-align: right;\">\n",
       "      <th></th>\n",
       "      <th>MEAN_RR</th>\n",
       "      <th>MEDIAN_RR</th>\n",
       "      <th>SDRR</th>\n",
       "      <th>RMSSD</th>\n",
       "      <th>SDSD</th>\n",
       "      <th>SDRR_RMSSD</th>\n",
       "      <th>pNN25</th>\n",
       "      <th>pNN50</th>\n",
       "      <th>KURT</th>\n",
       "      <th>SKEW</th>\n",
       "      <th>MEAN_REL_RR</th>\n",
       "      <th>MEDIAN_REL_RR</th>\n",
       "      <th>SDRR_REL_RR</th>\n",
       "      <th>RMSSD_REL_RR</th>\n",
       "      <th>SDSD_REL_RR</th>\n",
       "      <th>SDRR_RMSSD_REL_RR</th>\n",
       "      <th>KURT_REL_RR</th>\n",
       "      <th>SKEW_REL_RR</th>\n",
       "      <th>VLF</th>\n",
       "      <th>VLF_PCT</th>\n",
       "      <th>LF</th>\n",
       "      <th>LF_PCT</th>\n",
       "      <th>LF_NU</th>\n",
       "      <th>HF</th>\n",
       "      <th>HF_PCT</th>\n",
       "      <th>HF_NU</th>\n",
       "      <th>TP</th>\n",
       "      <th>LF_HF</th>\n",
       "      <th>HF_LF</th>\n",
       "      <th>SD1</th>\n",
       "      <th>SD2</th>\n",
       "      <th>sampen</th>\n",
       "      <th>higuci</th>\n",
       "      <th>datasetId</th>\n",
       "      <th>condition</th>\n",
       "      <th>HR</th>\n",
       "    </tr>\n",
       "  </thead>\n",
       "  <tbody>\n",
       "    <tr>\n",
       "      <th>0</th>\n",
       "      <td>885.157845</td>\n",
       "      <td>853.763730</td>\n",
       "      <td>140.972741</td>\n",
       "      <td>15.554505</td>\n",
       "      <td>15.553371</td>\n",
       "      <td>9.063146</td>\n",
       "      <td>11.133333</td>\n",
       "      <td>0.533333</td>\n",
       "      <td>-0.856554</td>\n",
       "      <td>0.335218</td>\n",
       "      <td>-0.000203</td>\n",
       "      <td>-0.000179</td>\n",
       "      <td>0.017080</td>\n",
       "      <td>0.007969</td>\n",
       "      <td>0.007969</td>\n",
       "      <td>2.143342</td>\n",
       "      <td>-0.856554</td>\n",
       "      <td>0.335218</td>\n",
       "      <td>2661.894136</td>\n",
       "      <td>72.203287</td>\n",
       "      <td>1009.249419</td>\n",
       "      <td>27.375666</td>\n",
       "      <td>98.485263</td>\n",
       "      <td>15.522603</td>\n",
       "      <td>0.421047</td>\n",
       "      <td>1.514737</td>\n",
       "      <td>3686.666157</td>\n",
       "      <td>65.018055</td>\n",
       "      <td>0.015380</td>\n",
       "      <td>11.001565</td>\n",
       "      <td>199.061782</td>\n",
       "      <td>2.139754</td>\n",
       "      <td>1.163485</td>\n",
       "      <td>2</td>\n",
       "      <td>no stress</td>\n",
       "      <td>69.499952</td>\n",
       "    </tr>\n",
       "    <tr>\n",
       "      <th>1</th>\n",
       "      <td>939.425371</td>\n",
       "      <td>948.357865</td>\n",
       "      <td>81.317742</td>\n",
       "      <td>12.964439</td>\n",
       "      <td>12.964195</td>\n",
       "      <td>6.272369</td>\n",
       "      <td>5.600000</td>\n",
       "      <td>0.000000</td>\n",
       "      <td>-0.408190</td>\n",
       "      <td>-0.155286</td>\n",
       "      <td>-0.000059</td>\n",
       "      <td>0.000611</td>\n",
       "      <td>0.013978</td>\n",
       "      <td>0.004769</td>\n",
       "      <td>0.004769</td>\n",
       "      <td>2.930855</td>\n",
       "      <td>-0.408190</td>\n",
       "      <td>-0.155286</td>\n",
       "      <td>2314.265450</td>\n",
       "      <td>76.975728</td>\n",
       "      <td>690.113275</td>\n",
       "      <td>22.954139</td>\n",
       "      <td>99.695397</td>\n",
       "      <td>2.108525</td>\n",
       "      <td>0.070133</td>\n",
       "      <td>0.304603</td>\n",
       "      <td>3006.487251</td>\n",
       "      <td>327.296635</td>\n",
       "      <td>0.003055</td>\n",
       "      <td>9.170129</td>\n",
       "      <td>114.634458</td>\n",
       "      <td>2.174499</td>\n",
       "      <td>1.084711</td>\n",
       "      <td>2</td>\n",
       "      <td>interruption</td>\n",
       "      <td>64.363150</td>\n",
       "    </tr>\n",
       "    <tr>\n",
       "      <th>2</th>\n",
       "      <td>898.186047</td>\n",
       "      <td>907.006860</td>\n",
       "      <td>84.497236</td>\n",
       "      <td>16.305279</td>\n",
       "      <td>16.305274</td>\n",
       "      <td>5.182201</td>\n",
       "      <td>13.066667</td>\n",
       "      <td>0.200000</td>\n",
       "      <td>0.351789</td>\n",
       "      <td>-0.656813</td>\n",
       "      <td>-0.000011</td>\n",
       "      <td>-0.000263</td>\n",
       "      <td>0.018539</td>\n",
       "      <td>0.008716</td>\n",
       "      <td>0.008716</td>\n",
       "      <td>2.127053</td>\n",
       "      <td>0.351789</td>\n",
       "      <td>-0.656813</td>\n",
       "      <td>1373.887112</td>\n",
       "      <td>51.152225</td>\n",
       "      <td>1298.222619</td>\n",
       "      <td>48.335104</td>\n",
       "      <td>98.950472</td>\n",
       "      <td>13.769729</td>\n",
       "      <td>0.512671</td>\n",
       "      <td>1.049528</td>\n",
       "      <td>2685.879461</td>\n",
       "      <td>94.280910</td>\n",
       "      <td>0.010607</td>\n",
       "      <td>11.533417</td>\n",
       "      <td>118.939253</td>\n",
       "      <td>2.135350</td>\n",
       "      <td>1.176315</td>\n",
       "      <td>2</td>\n",
       "      <td>interruption</td>\n",
       "      <td>67.450066</td>\n",
       "    </tr>\n",
       "    <tr>\n",
       "      <th>3</th>\n",
       "      <td>881.757865</td>\n",
       "      <td>893.460030</td>\n",
       "      <td>90.370537</td>\n",
       "      <td>15.720468</td>\n",
       "      <td>15.720068</td>\n",
       "      <td>5.748591</td>\n",
       "      <td>11.800000</td>\n",
       "      <td>0.133333</td>\n",
       "      <td>-0.504947</td>\n",
       "      <td>-0.386138</td>\n",
       "      <td>0.000112</td>\n",
       "      <td>0.000494</td>\n",
       "      <td>0.017761</td>\n",
       "      <td>0.008660</td>\n",
       "      <td>0.008660</td>\n",
       "      <td>2.050988</td>\n",
       "      <td>-0.504947</td>\n",
       "      <td>-0.386138</td>\n",
       "      <td>2410.357408</td>\n",
       "      <td>70.180308</td>\n",
       "      <td>1005.981659</td>\n",
       "      <td>29.290305</td>\n",
       "      <td>98.224706</td>\n",
       "      <td>18.181913</td>\n",
       "      <td>0.529387</td>\n",
       "      <td>1.775294</td>\n",
       "      <td>3434.520980</td>\n",
       "      <td>55.328701</td>\n",
       "      <td>0.018074</td>\n",
       "      <td>11.119476</td>\n",
       "      <td>127.318597</td>\n",
       "      <td>2.178341</td>\n",
       "      <td>1.179688</td>\n",
       "      <td>2</td>\n",
       "      <td>no stress</td>\n",
       "      <td>68.809562</td>\n",
       "    </tr>\n",
       "    <tr>\n",
       "      <th>4</th>\n",
       "      <td>809.625331</td>\n",
       "      <td>811.184865</td>\n",
       "      <td>62.766242</td>\n",
       "      <td>19.213819</td>\n",
       "      <td>19.213657</td>\n",
       "      <td>3.266724</td>\n",
       "      <td>20.200000</td>\n",
       "      <td>0.200000</td>\n",
       "      <td>-0.548408</td>\n",
       "      <td>-0.154252</td>\n",
       "      <td>-0.000100</td>\n",
       "      <td>-0.002736</td>\n",
       "      <td>0.023715</td>\n",
       "      <td>0.013055</td>\n",
       "      <td>0.013055</td>\n",
       "      <td>1.816544</td>\n",
       "      <td>-0.548408</td>\n",
       "      <td>-0.154252</td>\n",
       "      <td>1151.177330</td>\n",
       "      <td>43.918366</td>\n",
       "      <td>1421.782051</td>\n",
       "      <td>54.242160</td>\n",
       "      <td>96.720007</td>\n",
       "      <td>48.215822</td>\n",
       "      <td>1.839473</td>\n",
       "      <td>3.279993</td>\n",
       "      <td>2621.175204</td>\n",
       "      <td>29.487873</td>\n",
       "      <td>0.033912</td>\n",
       "      <td>13.590641</td>\n",
       "      <td>87.718281</td>\n",
       "      <td>2.221121</td>\n",
       "      <td>1.249612</td>\n",
       "      <td>2</td>\n",
       "      <td>no stress</td>\n",
       "      <td>74.565728</td>\n",
       "    </tr>\n",
       "  </tbody>\n",
       "</table>\n",
       "</div>"
      ],
      "text/plain": [
       "      MEAN_RR   MEDIAN_RR        SDRR      RMSSD       SDSD  SDRR_RMSSD  \\\n",
       "0  885.157845  853.763730  140.972741  15.554505  15.553371    9.063146   \n",
       "1  939.425371  948.357865   81.317742  12.964439  12.964195    6.272369   \n",
       "2  898.186047  907.006860   84.497236  16.305279  16.305274    5.182201   \n",
       "3  881.757865  893.460030   90.370537  15.720468  15.720068    5.748591   \n",
       "4  809.625331  811.184865   62.766242  19.213819  19.213657    3.266724   \n",
       "\n",
       "       pNN25     pNN50      KURT      SKEW  MEAN_REL_RR  MEDIAN_REL_RR  \\\n",
       "0  11.133333  0.533333 -0.856554  0.335218    -0.000203      -0.000179   \n",
       "1   5.600000  0.000000 -0.408190 -0.155286    -0.000059       0.000611   \n",
       "2  13.066667  0.200000  0.351789 -0.656813    -0.000011      -0.000263   \n",
       "3  11.800000  0.133333 -0.504947 -0.386138     0.000112       0.000494   \n",
       "4  20.200000  0.200000 -0.548408 -0.154252    -0.000100      -0.002736   \n",
       "\n",
       "   SDRR_REL_RR  RMSSD_REL_RR  SDSD_REL_RR  SDRR_RMSSD_REL_RR  KURT_REL_RR  \\\n",
       "0     0.017080      0.007969     0.007969           2.143342    -0.856554   \n",
       "1     0.013978      0.004769     0.004769           2.930855    -0.408190   \n",
       "2     0.018539      0.008716     0.008716           2.127053     0.351789   \n",
       "3     0.017761      0.008660     0.008660           2.050988    -0.504947   \n",
       "4     0.023715      0.013055     0.013055           1.816544    -0.548408   \n",
       "\n",
       "   SKEW_REL_RR          VLF    VLF_PCT           LF     LF_PCT      LF_NU  \\\n",
       "0     0.335218  2661.894136  72.203287  1009.249419  27.375666  98.485263   \n",
       "1    -0.155286  2314.265450  76.975728   690.113275  22.954139  99.695397   \n",
       "2    -0.656813  1373.887112  51.152225  1298.222619  48.335104  98.950472   \n",
       "3    -0.386138  2410.357408  70.180308  1005.981659  29.290305  98.224706   \n",
       "4    -0.154252  1151.177330  43.918366  1421.782051  54.242160  96.720007   \n",
       "\n",
       "          HF    HF_PCT     HF_NU           TP       LF_HF     HF_LF  \\\n",
       "0  15.522603  0.421047  1.514737  3686.666157   65.018055  0.015380   \n",
       "1   2.108525  0.070133  0.304603  3006.487251  327.296635  0.003055   \n",
       "2  13.769729  0.512671  1.049528  2685.879461   94.280910  0.010607   \n",
       "3  18.181913  0.529387  1.775294  3434.520980   55.328701  0.018074   \n",
       "4  48.215822  1.839473  3.279993  2621.175204   29.487873  0.033912   \n",
       "\n",
       "         SD1         SD2    sampen    higuci  datasetId     condition  \\\n",
       "0  11.001565  199.061782  2.139754  1.163485          2     no stress   \n",
       "1   9.170129  114.634458  2.174499  1.084711          2  interruption   \n",
       "2  11.533417  118.939253  2.135350  1.176315          2  interruption   \n",
       "3  11.119476  127.318597  2.178341  1.179688          2     no stress   \n",
       "4  13.590641   87.718281  2.221121  1.249612          2     no stress   \n",
       "\n",
       "          HR  \n",
       "0  69.499952  \n",
       "1  64.363150  \n",
       "2  67.450066  \n",
       "3  68.809562  \n",
       "4  74.565728  "
      ]
     },
     "execution_count": 8,
     "metadata": {},
     "output_type": "execute_result"
    }
   ],
   "source": [
    "df_train.head()"
   ]
  },
  {
   "cell_type": "code",
   "execution_count": 9,
   "metadata": {
    "colab": {
     "base_uri": "https://localhost:8080/"
    },
    "executionInfo": {
     "elapsed": 723,
     "status": "ok",
     "timestamp": 1607321468004,
     "user": {
      "displayName": "Neeraj Tripathi",
      "photoUrl": "https://lh3.googleusercontent.com/a-/AOh14GiG3LuuDAWxS7JhSGXJchBx3AghDOUh5xfiDuVTOO4=s64",
      "userId": "06360701223369622935"
     },
     "user_tz": -330
    },
    "id": "gjxPr68G0x_R",
    "outputId": "d2bac3d9-b4c7-4285-96de-6c53da812dc8"
   },
   "outputs": [
    {
     "name": "stdout",
     "output_type": "stream",
     "text": [
      "<class 'pandas.core.frame.DataFrame'>\n",
      "RangeIndex: 41033 entries, 0 to 41032\n",
      "Data columns (total 35 columns):\n",
      "MEAN_RR              41033 non-null float64\n",
      "MEDIAN_RR            41033 non-null float64\n",
      "SDRR                 41033 non-null float64\n",
      "RMSSD                41033 non-null float64\n",
      "SDSD                 41033 non-null float64\n",
      "SDRR_RMSSD           41033 non-null float64\n",
      "pNN25                41033 non-null float64\n",
      "pNN50                41033 non-null float64\n",
      "KURT                 41033 non-null float64\n",
      "SKEW                 41033 non-null float64\n",
      "MEAN_REL_RR          41033 non-null float64\n",
      "MEDIAN_REL_RR        41033 non-null float64\n",
      "SDRR_REL_RR          41033 non-null float64\n",
      "RMSSD_REL_RR         41033 non-null float64\n",
      "SDSD_REL_RR          41033 non-null float64\n",
      "SDRR_RMSSD_REL_RR    41033 non-null float64\n",
      "KURT_REL_RR          41033 non-null float64\n",
      "SKEW_REL_RR          41033 non-null float64\n",
      "VLF                  41033 non-null float64\n",
      "VLF_PCT              41033 non-null float64\n",
      "LF                   41033 non-null float64\n",
      "LF_PCT               41033 non-null float64\n",
      "LF_NU                41033 non-null float64\n",
      "HF                   41033 non-null float64\n",
      "HF_PCT               41033 non-null float64\n",
      "HF_NU                41033 non-null float64\n",
      "TP                   41033 non-null float64\n",
      "LF_HF                41033 non-null float64\n",
      "HF_LF                41033 non-null float64\n",
      "SD1                  41033 non-null float64\n",
      "SD2                  41033 non-null float64\n",
      "sampen               41033 non-null float64\n",
      "higuci               41033 non-null float64\n",
      "datasetId            41033 non-null int64\n",
      "condition            41033 non-null object\n",
      "dtypes: float64(33), int64(1), object(1)\n",
      "memory usage: 11.0+ MB\n"
     ]
    }
   ],
   "source": [
    "df_test.info()"
   ]
  },
  {
   "cell_type": "code",
   "execution_count": 10,
   "metadata": {
    "colab": {
     "base_uri": "https://localhost:8080/",
     "height": 482
    },
    "executionInfo": {
     "elapsed": 674,
     "status": "ok",
     "timestamp": 1607321478069,
     "user": {
      "displayName": "Neeraj Tripathi",
      "photoUrl": "https://lh3.googleusercontent.com/a-/AOh14GiG3LuuDAWxS7JhSGXJchBx3AghDOUh5xfiDuVTOO4=s64",
      "userId": "06360701223369622935"
     },
     "user_tz": -330
    },
    "id": "nVDzuDKh0xw5",
    "outputId": "419c30b4-a985-46dc-f3c4-5dacb27e6123"
   },
   "outputs": [
    {
     "data": {
      "text/html": [
       "<div>\n",
       "<style scoped>\n",
       "    .dataframe tbody tr th:only-of-type {\n",
       "        vertical-align: middle;\n",
       "    }\n",
       "\n",
       "    .dataframe tbody tr th {\n",
       "        vertical-align: top;\n",
       "    }\n",
       "\n",
       "    .dataframe thead th {\n",
       "        text-align: right;\n",
       "    }\n",
       "</style>\n",
       "<table border=\"1\" class=\"dataframe\">\n",
       "  <thead>\n",
       "    <tr style=\"text-align: right;\">\n",
       "      <th></th>\n",
       "      <th>MEAN_RR</th>\n",
       "      <th>MEDIAN_RR</th>\n",
       "      <th>SDRR</th>\n",
       "      <th>RMSSD</th>\n",
       "      <th>SDSD</th>\n",
       "      <th>SDRR_RMSSD</th>\n",
       "      <th>pNN25</th>\n",
       "      <th>pNN50</th>\n",
       "      <th>KURT</th>\n",
       "      <th>SKEW</th>\n",
       "      <th>MEAN_REL_RR</th>\n",
       "      <th>MEDIAN_REL_RR</th>\n",
       "      <th>SDRR_REL_RR</th>\n",
       "      <th>RMSSD_REL_RR</th>\n",
       "      <th>SDSD_REL_RR</th>\n",
       "      <th>SDRR_RMSSD_REL_RR</th>\n",
       "      <th>KURT_REL_RR</th>\n",
       "      <th>SKEW_REL_RR</th>\n",
       "      <th>VLF</th>\n",
       "      <th>VLF_PCT</th>\n",
       "      <th>LF</th>\n",
       "      <th>LF_PCT</th>\n",
       "      <th>LF_NU</th>\n",
       "      <th>HF</th>\n",
       "      <th>HF_PCT</th>\n",
       "      <th>HF_NU</th>\n",
       "      <th>TP</th>\n",
       "      <th>LF_HF</th>\n",
       "      <th>HF_LF</th>\n",
       "      <th>SD1</th>\n",
       "      <th>SD2</th>\n",
       "      <th>sampen</th>\n",
       "      <th>higuci</th>\n",
       "      <th>datasetId</th>\n",
       "      <th>condition</th>\n",
       "    </tr>\n",
       "  </thead>\n",
       "  <tbody>\n",
       "    <tr>\n",
       "      <th>0</th>\n",
       "      <td>934.665288</td>\n",
       "      <td>939.03173</td>\n",
       "      <td>82.139495</td>\n",
       "      <td>11.801781</td>\n",
       "      <td>11.801772</td>\n",
       "      <td>6.959924</td>\n",
       "      <td>3.933333</td>\n",
       "      <td>0.133333</td>\n",
       "      <td>-0.680262</td>\n",
       "      <td>-0.233075</td>\n",
       "      <td>0.000016</td>\n",
       "      <td>0.000288</td>\n",
       "      <td>0.012933</td>\n",
       "      <td>0.004578</td>\n",
       "      <td>0.004578</td>\n",
       "      <td>2.825038</td>\n",
       "      <td>-0.680262</td>\n",
       "      <td>-0.233075</td>\n",
       "      <td>1868.532278</td>\n",
       "      <td>76.511189</td>\n",
       "      <td>570.643114</td>\n",
       "      <td>23.366245</td>\n",
       "      <td>99.478197</td>\n",
       "      <td>2.993254</td>\n",
       "      <td>0.122565</td>\n",
       "      <td>0.521803</td>\n",
       "      <td>2442.168645</td>\n",
       "      <td>190.643094</td>\n",
       "      <td>0.005245</td>\n",
       "      <td>8.347898</td>\n",
       "      <td>115.862444</td>\n",
       "      <td>2.209659</td>\n",
       "      <td>1.100715</td>\n",
       "      <td>2</td>\n",
       "      <td>time pressure</td>\n",
       "    </tr>\n",
       "    <tr>\n",
       "      <th>1</th>\n",
       "      <td>817.062380</td>\n",
       "      <td>816.33879</td>\n",
       "      <td>55.492332</td>\n",
       "      <td>20.558810</td>\n",
       "      <td>20.558768</td>\n",
       "      <td>2.699200</td>\n",
       "      <td>24.600000</td>\n",
       "      <td>0.533333</td>\n",
       "      <td>-0.034454</td>\n",
       "      <td>-0.051689</td>\n",
       "      <td>0.000040</td>\n",
       "      <td>-0.002749</td>\n",
       "      <td>0.025148</td>\n",
       "      <td>0.013921</td>\n",
       "      <td>0.013921</td>\n",
       "      <td>1.806517</td>\n",
       "      <td>-0.034454</td>\n",
       "      <td>-0.051689</td>\n",
       "      <td>568.742845</td>\n",
       "      <td>26.301350</td>\n",
       "      <td>1553.971621</td>\n",
       "      <td>71.862973</td>\n",
       "      <td>97.509212</td>\n",
       "      <td>39.694850</td>\n",
       "      <td>1.835677</td>\n",
       "      <td>2.490788</td>\n",
       "      <td>2162.409316</td>\n",
       "      <td>39.147940</td>\n",
       "      <td>0.025544</td>\n",
       "      <td>14.542096</td>\n",
       "      <td>77.118903</td>\n",
       "      <td>2.186132</td>\n",
       "      <td>1.290615</td>\n",
       "      <td>2</td>\n",
       "      <td>no stress</td>\n",
       "    </tr>\n",
       "    <tr>\n",
       "      <th>2</th>\n",
       "      <td>876.762022</td>\n",
       "      <td>894.19889</td>\n",
       "      <td>88.690820</td>\n",
       "      <td>13.853737</td>\n",
       "      <td>13.853730</td>\n",
       "      <td>6.401942</td>\n",
       "      <td>7.066667</td>\n",
       "      <td>0.533333</td>\n",
       "      <td>-0.206953</td>\n",
       "      <td>-0.589940</td>\n",
       "      <td>0.000010</td>\n",
       "      <td>-0.000172</td>\n",
       "      <td>0.015533</td>\n",
       "      <td>0.008149</td>\n",
       "      <td>0.008149</td>\n",
       "      <td>1.906180</td>\n",
       "      <td>-0.206953</td>\n",
       "      <td>-0.589940</td>\n",
       "      <td>2101.871207</td>\n",
       "      <td>75.836461</td>\n",
       "      <td>655.175895</td>\n",
       "      <td>23.639042</td>\n",
       "      <td>97.829386</td>\n",
       "      <td>14.536877</td>\n",
       "      <td>0.524497</td>\n",
       "      <td>2.170614</td>\n",
       "      <td>2771.583978</td>\n",
       "      <td>45.069921</td>\n",
       "      <td>0.022188</td>\n",
       "      <td>9.799336</td>\n",
       "      <td>125.044377</td>\n",
       "      <td>2.051571</td>\n",
       "      <td>1.226663</td>\n",
       "      <td>2</td>\n",
       "      <td>no stress</td>\n",
       "    </tr>\n",
       "    <tr>\n",
       "      <th>3</th>\n",
       "      <td>1038.640693</td>\n",
       "      <td>998.91429</td>\n",
       "      <td>213.725850</td>\n",
       "      <td>16.457194</td>\n",
       "      <td>16.454801</td>\n",
       "      <td>12.986774</td>\n",
       "      <td>10.800000</td>\n",
       "      <td>1.866667</td>\n",
       "      <td>-0.820407</td>\n",
       "      <td>0.487198</td>\n",
       "      <td>-0.000238</td>\n",
       "      <td>-0.000464</td>\n",
       "      <td>0.016882</td>\n",
       "      <td>0.007587</td>\n",
       "      <td>0.007587</td>\n",
       "      <td>2.225116</td>\n",
       "      <td>-0.820407</td>\n",
       "      <td>0.487198</td>\n",
       "      <td>5757.544433</td>\n",
       "      <td>90.562305</td>\n",
       "      <td>592.913021</td>\n",
       "      <td>9.326123</td>\n",
       "      <td>98.817806</td>\n",
       "      <td>7.093235</td>\n",
       "      <td>0.111572</td>\n",
       "      <td>1.182194</td>\n",
       "      <td>6357.550689</td>\n",
       "      <td>83.588517</td>\n",
       "      <td>0.011963</td>\n",
       "      <td>11.639185</td>\n",
       "      <td>302.029812</td>\n",
       "      <td>2.080910</td>\n",
       "      <td>1.085143</td>\n",
       "      <td>2</td>\n",
       "      <td>time pressure</td>\n",
       "    </tr>\n",
       "    <tr>\n",
       "      <th>4</th>\n",
       "      <td>774.548508</td>\n",
       "      <td>778.90508</td>\n",
       "      <td>51.577855</td>\n",
       "      <td>10.273114</td>\n",
       "      <td>10.273049</td>\n",
       "      <td>5.020664</td>\n",
       "      <td>2.000000</td>\n",
       "      <td>0.066667</td>\n",
       "      <td>1.738453</td>\n",
       "      <td>-0.005082</td>\n",
       "      <td>0.000054</td>\n",
       "      <td>-0.000006</td>\n",
       "      <td>0.013479</td>\n",
       "      <td>0.007811</td>\n",
       "      <td>0.007811</td>\n",
       "      <td>1.725606</td>\n",
       "      <td>1.738453</td>\n",
       "      <td>-0.005082</td>\n",
       "      <td>964.696325</td>\n",
       "      <td>70.256575</td>\n",
       "      <td>374.939530</td>\n",
       "      <td>27.305968</td>\n",
       "      <td>91.805057</td>\n",
       "      <td>33.468834</td>\n",
       "      <td>2.437457</td>\n",
       "      <td>8.194943</td>\n",
       "      <td>1373.104689</td>\n",
       "      <td>11.202647</td>\n",
       "      <td>0.089265</td>\n",
       "      <td>7.266567</td>\n",
       "      <td>72.579248</td>\n",
       "      <td>2.068728</td>\n",
       "      <td>1.252547</td>\n",
       "      <td>2</td>\n",
       "      <td>interruption</td>\n",
       "    </tr>\n",
       "  </tbody>\n",
       "</table>\n",
       "</div>"
      ],
      "text/plain": [
       "       MEAN_RR  MEDIAN_RR        SDRR      RMSSD       SDSD  SDRR_RMSSD  \\\n",
       "0   934.665288  939.03173   82.139495  11.801781  11.801772    6.959924   \n",
       "1   817.062380  816.33879   55.492332  20.558810  20.558768    2.699200   \n",
       "2   876.762022  894.19889   88.690820  13.853737  13.853730    6.401942   \n",
       "3  1038.640693  998.91429  213.725850  16.457194  16.454801   12.986774   \n",
       "4   774.548508  778.90508   51.577855  10.273114  10.273049    5.020664   \n",
       "\n",
       "       pNN25     pNN50      KURT      SKEW  MEAN_REL_RR  MEDIAN_REL_RR  \\\n",
       "0   3.933333  0.133333 -0.680262 -0.233075     0.000016       0.000288   \n",
       "1  24.600000  0.533333 -0.034454 -0.051689     0.000040      -0.002749   \n",
       "2   7.066667  0.533333 -0.206953 -0.589940     0.000010      -0.000172   \n",
       "3  10.800000  1.866667 -0.820407  0.487198    -0.000238      -0.000464   \n",
       "4   2.000000  0.066667  1.738453 -0.005082     0.000054      -0.000006   \n",
       "\n",
       "   SDRR_REL_RR  RMSSD_REL_RR  SDSD_REL_RR  SDRR_RMSSD_REL_RR  KURT_REL_RR  \\\n",
       "0     0.012933      0.004578     0.004578           2.825038    -0.680262   \n",
       "1     0.025148      0.013921     0.013921           1.806517    -0.034454   \n",
       "2     0.015533      0.008149     0.008149           1.906180    -0.206953   \n",
       "3     0.016882      0.007587     0.007587           2.225116    -0.820407   \n",
       "4     0.013479      0.007811     0.007811           1.725606     1.738453   \n",
       "\n",
       "   SKEW_REL_RR          VLF    VLF_PCT           LF     LF_PCT      LF_NU  \\\n",
       "0    -0.233075  1868.532278  76.511189   570.643114  23.366245  99.478197   \n",
       "1    -0.051689   568.742845  26.301350  1553.971621  71.862973  97.509212   \n",
       "2    -0.589940  2101.871207  75.836461   655.175895  23.639042  97.829386   \n",
       "3     0.487198  5757.544433  90.562305   592.913021   9.326123  98.817806   \n",
       "4    -0.005082   964.696325  70.256575   374.939530  27.305968  91.805057   \n",
       "\n",
       "          HF    HF_PCT     HF_NU           TP       LF_HF     HF_LF  \\\n",
       "0   2.993254  0.122565  0.521803  2442.168645  190.643094  0.005245   \n",
       "1  39.694850  1.835677  2.490788  2162.409316   39.147940  0.025544   \n",
       "2  14.536877  0.524497  2.170614  2771.583978   45.069921  0.022188   \n",
       "3   7.093235  0.111572  1.182194  6357.550689   83.588517  0.011963   \n",
       "4  33.468834  2.437457  8.194943  1373.104689   11.202647  0.089265   \n",
       "\n",
       "         SD1         SD2    sampen    higuci  datasetId      condition  \n",
       "0   8.347898  115.862444  2.209659  1.100715          2  time pressure  \n",
       "1  14.542096   77.118903  2.186132  1.290615          2      no stress  \n",
       "2   9.799336  125.044377  2.051571  1.226663          2      no stress  \n",
       "3  11.639185  302.029812  2.080910  1.085143          2  time pressure  \n",
       "4   7.266567   72.579248  2.068728  1.252547          2   interruption  "
      ]
     },
     "execution_count": 10,
     "metadata": {},
     "output_type": "execute_result"
    }
   ],
   "source": [
    "df_test.head()"
   ]
  },
  {
   "cell_type": "code",
   "execution_count": 11,
   "metadata": {
    "colab": {
     "base_uri": "https://localhost:8080/",
     "height": 202
    },
    "executionInfo": {
     "elapsed": 3348,
     "status": "ok",
     "timestamp": 1607322452174,
     "user": {
      "displayName": "Neeraj Tripathi",
      "photoUrl": "https://lh3.googleusercontent.com/a-/AOh14GiG3LuuDAWxS7JhSGXJchBx3AghDOUh5xfiDuVTOO4=s64",
      "userId": "06360701223369622935"
     },
     "user_tz": -330
    },
    "id": "W4pRj1ipHmKy",
    "outputId": "eced7539-e498-4827-9f10-f8fca5559869"
   },
   "outputs": [],
   "source": [
    "# Encoding the condition dimension using OneHotEncoder\n",
    "from sklearn.preprocessing import OneHotEncoder\n",
    "\n",
    "oe_condition = OneHotEncoder()\n",
    "oe_condition_results_train = oe_condition.fit_transform(df_train[['condition']])\n",
    "oe_condition_results_test = oe_condition.transform(df_test[['condition']])"
   ]
  },
  {
   "cell_type": "code",
   "execution_count": 12,
   "metadata": {
    "executionInfo": {
     "elapsed": 1095,
     "status": "ok",
     "timestamp": 1607322505155,
     "user": {
      "displayName": "Neeraj Tripathi",
      "photoUrl": "https://lh3.googleusercontent.com/a-/AOh14GiG3LuuDAWxS7JhSGXJchBx3AghDOUh5xfiDuVTOO4=s64",
      "userId": "06360701223369622935"
     },
     "user_tz": -330
    },
    "id": "MPBgMvv3HmKy"
   },
   "outputs": [],
   "source": [
    "# Adding the newly added columns (as a result of OneHotEncoding) to the original dataframe\n",
    "df_train = df_train.join(pd.DataFrame(oe_condition_results_train.toarray(), columns=df_train['condition'].value_counts().index))\n",
    "df_test = df_test.join(pd.DataFrame(oe_condition_results_test.toarray(), columns=df_test['condition'].value_counts().index))"
   ]
  },
  {
   "cell_type": "code",
   "execution_count": 13,
   "metadata": {},
   "outputs": [
    {
     "data": {
      "text/plain": [
       "Index(['MEAN_RR', 'MEDIAN_RR', 'SDRR', 'RMSSD', 'SDSD', 'SDRR_RMSSD', 'pNN25',\n",
       "       'pNN50', 'KURT', 'SKEW', 'MEAN_REL_RR', 'MEDIAN_REL_RR', 'SDRR_REL_RR',\n",
       "       'RMSSD_REL_RR', 'SDSD_REL_RR', 'SDRR_RMSSD_REL_RR', 'KURT_REL_RR',\n",
       "       'SKEW_REL_RR', 'VLF', 'VLF_PCT', 'LF', 'LF_PCT', 'LF_NU', 'HF',\n",
       "       'HF_PCT', 'HF_NU', 'TP', 'LF_HF', 'HF_LF', 'SD1', 'SD2', 'sampen',\n",
       "       'higuci', 'datasetId', 'condition', 'HR', 'no stress', 'interruption',\n",
       "       'time pressure'],\n",
       "      dtype='object')"
      ]
     },
     "execution_count": 13,
     "metadata": {},
     "output_type": "execute_result"
    }
   ],
   "source": [
    "df_train.columns"
   ]
  },
  {
   "cell_type": "code",
   "execution_count": 14,
   "metadata": {},
   "outputs": [
    {
     "data": {
      "text/html": [
       "<div>\n",
       "<style scoped>\n",
       "    .dataframe tbody tr th:only-of-type {\n",
       "        vertical-align: middle;\n",
       "    }\n",
       "\n",
       "    .dataframe tbody tr th {\n",
       "        vertical-align: top;\n",
       "    }\n",
       "\n",
       "    .dataframe thead th {\n",
       "        text-align: right;\n",
       "    }\n",
       "</style>\n",
       "<table border=\"1\" class=\"dataframe\">\n",
       "  <thead>\n",
       "    <tr style=\"text-align: right;\">\n",
       "      <th></th>\n",
       "      <th>MEAN_RR</th>\n",
       "      <th>MEDIAN_RR</th>\n",
       "      <th>SDRR</th>\n",
       "      <th>RMSSD</th>\n",
       "      <th>SDSD</th>\n",
       "      <th>SDRR_RMSSD</th>\n",
       "      <th>pNN25</th>\n",
       "      <th>pNN50</th>\n",
       "      <th>KURT</th>\n",
       "      <th>SKEW</th>\n",
       "      <th>MEAN_REL_RR</th>\n",
       "      <th>MEDIAN_REL_RR</th>\n",
       "      <th>SDRR_REL_RR</th>\n",
       "      <th>RMSSD_REL_RR</th>\n",
       "      <th>SDSD_REL_RR</th>\n",
       "      <th>SDRR_RMSSD_REL_RR</th>\n",
       "      <th>KURT_REL_RR</th>\n",
       "      <th>SKEW_REL_RR</th>\n",
       "      <th>VLF</th>\n",
       "      <th>VLF_PCT</th>\n",
       "      <th>LF</th>\n",
       "      <th>LF_PCT</th>\n",
       "      <th>LF_NU</th>\n",
       "      <th>HF</th>\n",
       "      <th>HF_PCT</th>\n",
       "      <th>HF_NU</th>\n",
       "      <th>TP</th>\n",
       "      <th>LF_HF</th>\n",
       "      <th>HF_LF</th>\n",
       "      <th>SD1</th>\n",
       "      <th>SD2</th>\n",
       "      <th>sampen</th>\n",
       "      <th>higuci</th>\n",
       "      <th>datasetId</th>\n",
       "      <th>condition</th>\n",
       "      <th>HR</th>\n",
       "      <th>no stress</th>\n",
       "      <th>interruption</th>\n",
       "      <th>time pressure</th>\n",
       "    </tr>\n",
       "  </thead>\n",
       "  <tbody>\n",
       "    <tr>\n",
       "      <th>0</th>\n",
       "      <td>885.157845</td>\n",
       "      <td>853.763730</td>\n",
       "      <td>140.972741</td>\n",
       "      <td>15.554505</td>\n",
       "      <td>15.553371</td>\n",
       "      <td>9.063146</td>\n",
       "      <td>11.133333</td>\n",
       "      <td>0.533333</td>\n",
       "      <td>-0.856554</td>\n",
       "      <td>0.335218</td>\n",
       "      <td>-0.000203</td>\n",
       "      <td>-0.000179</td>\n",
       "      <td>0.017080</td>\n",
       "      <td>0.007969</td>\n",
       "      <td>0.007969</td>\n",
       "      <td>2.143342</td>\n",
       "      <td>-0.856554</td>\n",
       "      <td>0.335218</td>\n",
       "      <td>2661.894136</td>\n",
       "      <td>72.203287</td>\n",
       "      <td>1009.249419</td>\n",
       "      <td>27.375666</td>\n",
       "      <td>98.485263</td>\n",
       "      <td>15.522603</td>\n",
       "      <td>0.421047</td>\n",
       "      <td>1.514737</td>\n",
       "      <td>3686.666157</td>\n",
       "      <td>65.018055</td>\n",
       "      <td>0.015380</td>\n",
       "      <td>11.001565</td>\n",
       "      <td>199.061782</td>\n",
       "      <td>2.139754</td>\n",
       "      <td>1.163485</td>\n",
       "      <td>2</td>\n",
       "      <td>no stress</td>\n",
       "      <td>69.499952</td>\n",
       "      <td>0.0</td>\n",
       "      <td>1.0</td>\n",
       "      <td>0.0</td>\n",
       "    </tr>\n",
       "    <tr>\n",
       "      <th>1</th>\n",
       "      <td>939.425371</td>\n",
       "      <td>948.357865</td>\n",
       "      <td>81.317742</td>\n",
       "      <td>12.964439</td>\n",
       "      <td>12.964195</td>\n",
       "      <td>6.272369</td>\n",
       "      <td>5.600000</td>\n",
       "      <td>0.000000</td>\n",
       "      <td>-0.408190</td>\n",
       "      <td>-0.155286</td>\n",
       "      <td>-0.000059</td>\n",
       "      <td>0.000611</td>\n",
       "      <td>0.013978</td>\n",
       "      <td>0.004769</td>\n",
       "      <td>0.004769</td>\n",
       "      <td>2.930855</td>\n",
       "      <td>-0.408190</td>\n",
       "      <td>-0.155286</td>\n",
       "      <td>2314.265450</td>\n",
       "      <td>76.975728</td>\n",
       "      <td>690.113275</td>\n",
       "      <td>22.954139</td>\n",
       "      <td>99.695397</td>\n",
       "      <td>2.108525</td>\n",
       "      <td>0.070133</td>\n",
       "      <td>0.304603</td>\n",
       "      <td>3006.487251</td>\n",
       "      <td>327.296635</td>\n",
       "      <td>0.003055</td>\n",
       "      <td>9.170129</td>\n",
       "      <td>114.634458</td>\n",
       "      <td>2.174499</td>\n",
       "      <td>1.084711</td>\n",
       "      <td>2</td>\n",
       "      <td>interruption</td>\n",
       "      <td>64.363150</td>\n",
       "      <td>1.0</td>\n",
       "      <td>0.0</td>\n",
       "      <td>0.0</td>\n",
       "    </tr>\n",
       "    <tr>\n",
       "      <th>2</th>\n",
       "      <td>898.186047</td>\n",
       "      <td>907.006860</td>\n",
       "      <td>84.497236</td>\n",
       "      <td>16.305279</td>\n",
       "      <td>16.305274</td>\n",
       "      <td>5.182201</td>\n",
       "      <td>13.066667</td>\n",
       "      <td>0.200000</td>\n",
       "      <td>0.351789</td>\n",
       "      <td>-0.656813</td>\n",
       "      <td>-0.000011</td>\n",
       "      <td>-0.000263</td>\n",
       "      <td>0.018539</td>\n",
       "      <td>0.008716</td>\n",
       "      <td>0.008716</td>\n",
       "      <td>2.127053</td>\n",
       "      <td>0.351789</td>\n",
       "      <td>-0.656813</td>\n",
       "      <td>1373.887112</td>\n",
       "      <td>51.152225</td>\n",
       "      <td>1298.222619</td>\n",
       "      <td>48.335104</td>\n",
       "      <td>98.950472</td>\n",
       "      <td>13.769729</td>\n",
       "      <td>0.512671</td>\n",
       "      <td>1.049528</td>\n",
       "      <td>2685.879461</td>\n",
       "      <td>94.280910</td>\n",
       "      <td>0.010607</td>\n",
       "      <td>11.533417</td>\n",
       "      <td>118.939253</td>\n",
       "      <td>2.135350</td>\n",
       "      <td>1.176315</td>\n",
       "      <td>2</td>\n",
       "      <td>interruption</td>\n",
       "      <td>67.450066</td>\n",
       "      <td>1.0</td>\n",
       "      <td>0.0</td>\n",
       "      <td>0.0</td>\n",
       "    </tr>\n",
       "    <tr>\n",
       "      <th>3</th>\n",
       "      <td>881.757865</td>\n",
       "      <td>893.460030</td>\n",
       "      <td>90.370537</td>\n",
       "      <td>15.720468</td>\n",
       "      <td>15.720068</td>\n",
       "      <td>5.748591</td>\n",
       "      <td>11.800000</td>\n",
       "      <td>0.133333</td>\n",
       "      <td>-0.504947</td>\n",
       "      <td>-0.386138</td>\n",
       "      <td>0.000112</td>\n",
       "      <td>0.000494</td>\n",
       "      <td>0.017761</td>\n",
       "      <td>0.008660</td>\n",
       "      <td>0.008660</td>\n",
       "      <td>2.050988</td>\n",
       "      <td>-0.504947</td>\n",
       "      <td>-0.386138</td>\n",
       "      <td>2410.357408</td>\n",
       "      <td>70.180308</td>\n",
       "      <td>1005.981659</td>\n",
       "      <td>29.290305</td>\n",
       "      <td>98.224706</td>\n",
       "      <td>18.181913</td>\n",
       "      <td>0.529387</td>\n",
       "      <td>1.775294</td>\n",
       "      <td>3434.520980</td>\n",
       "      <td>55.328701</td>\n",
       "      <td>0.018074</td>\n",
       "      <td>11.119476</td>\n",
       "      <td>127.318597</td>\n",
       "      <td>2.178341</td>\n",
       "      <td>1.179688</td>\n",
       "      <td>2</td>\n",
       "      <td>no stress</td>\n",
       "      <td>68.809562</td>\n",
       "      <td>0.0</td>\n",
       "      <td>1.0</td>\n",
       "      <td>0.0</td>\n",
       "    </tr>\n",
       "    <tr>\n",
       "      <th>4</th>\n",
       "      <td>809.625331</td>\n",
       "      <td>811.184865</td>\n",
       "      <td>62.766242</td>\n",
       "      <td>19.213819</td>\n",
       "      <td>19.213657</td>\n",
       "      <td>3.266724</td>\n",
       "      <td>20.200000</td>\n",
       "      <td>0.200000</td>\n",
       "      <td>-0.548408</td>\n",
       "      <td>-0.154252</td>\n",
       "      <td>-0.000100</td>\n",
       "      <td>-0.002736</td>\n",
       "      <td>0.023715</td>\n",
       "      <td>0.013055</td>\n",
       "      <td>0.013055</td>\n",
       "      <td>1.816544</td>\n",
       "      <td>-0.548408</td>\n",
       "      <td>-0.154252</td>\n",
       "      <td>1151.177330</td>\n",
       "      <td>43.918366</td>\n",
       "      <td>1421.782051</td>\n",
       "      <td>54.242160</td>\n",
       "      <td>96.720007</td>\n",
       "      <td>48.215822</td>\n",
       "      <td>1.839473</td>\n",
       "      <td>3.279993</td>\n",
       "      <td>2621.175204</td>\n",
       "      <td>29.487873</td>\n",
       "      <td>0.033912</td>\n",
       "      <td>13.590641</td>\n",
       "      <td>87.718281</td>\n",
       "      <td>2.221121</td>\n",
       "      <td>1.249612</td>\n",
       "      <td>2</td>\n",
       "      <td>no stress</td>\n",
       "      <td>74.565728</td>\n",
       "      <td>0.0</td>\n",
       "      <td>1.0</td>\n",
       "      <td>0.0</td>\n",
       "    </tr>\n",
       "  </tbody>\n",
       "</table>\n",
       "</div>"
      ],
      "text/plain": [
       "      MEAN_RR   MEDIAN_RR        SDRR      RMSSD       SDSD  SDRR_RMSSD  \\\n",
       "0  885.157845  853.763730  140.972741  15.554505  15.553371    9.063146   \n",
       "1  939.425371  948.357865   81.317742  12.964439  12.964195    6.272369   \n",
       "2  898.186047  907.006860   84.497236  16.305279  16.305274    5.182201   \n",
       "3  881.757865  893.460030   90.370537  15.720468  15.720068    5.748591   \n",
       "4  809.625331  811.184865   62.766242  19.213819  19.213657    3.266724   \n",
       "\n",
       "       pNN25     pNN50      KURT      SKEW  MEAN_REL_RR  MEDIAN_REL_RR  \\\n",
       "0  11.133333  0.533333 -0.856554  0.335218    -0.000203      -0.000179   \n",
       "1   5.600000  0.000000 -0.408190 -0.155286    -0.000059       0.000611   \n",
       "2  13.066667  0.200000  0.351789 -0.656813    -0.000011      -0.000263   \n",
       "3  11.800000  0.133333 -0.504947 -0.386138     0.000112       0.000494   \n",
       "4  20.200000  0.200000 -0.548408 -0.154252    -0.000100      -0.002736   \n",
       "\n",
       "   SDRR_REL_RR  RMSSD_REL_RR  SDSD_REL_RR  SDRR_RMSSD_REL_RR  KURT_REL_RR  \\\n",
       "0     0.017080      0.007969     0.007969           2.143342    -0.856554   \n",
       "1     0.013978      0.004769     0.004769           2.930855    -0.408190   \n",
       "2     0.018539      0.008716     0.008716           2.127053     0.351789   \n",
       "3     0.017761      0.008660     0.008660           2.050988    -0.504947   \n",
       "4     0.023715      0.013055     0.013055           1.816544    -0.548408   \n",
       "\n",
       "   SKEW_REL_RR          VLF    VLF_PCT           LF     LF_PCT      LF_NU  \\\n",
       "0     0.335218  2661.894136  72.203287  1009.249419  27.375666  98.485263   \n",
       "1    -0.155286  2314.265450  76.975728   690.113275  22.954139  99.695397   \n",
       "2    -0.656813  1373.887112  51.152225  1298.222619  48.335104  98.950472   \n",
       "3    -0.386138  2410.357408  70.180308  1005.981659  29.290305  98.224706   \n",
       "4    -0.154252  1151.177330  43.918366  1421.782051  54.242160  96.720007   \n",
       "\n",
       "          HF    HF_PCT     HF_NU           TP       LF_HF     HF_LF  \\\n",
       "0  15.522603  0.421047  1.514737  3686.666157   65.018055  0.015380   \n",
       "1   2.108525  0.070133  0.304603  3006.487251  327.296635  0.003055   \n",
       "2  13.769729  0.512671  1.049528  2685.879461   94.280910  0.010607   \n",
       "3  18.181913  0.529387  1.775294  3434.520980   55.328701  0.018074   \n",
       "4  48.215822  1.839473  3.279993  2621.175204   29.487873  0.033912   \n",
       "\n",
       "         SD1         SD2    sampen    higuci  datasetId     condition  \\\n",
       "0  11.001565  199.061782  2.139754  1.163485          2     no stress   \n",
       "1   9.170129  114.634458  2.174499  1.084711          2  interruption   \n",
       "2  11.533417  118.939253  2.135350  1.176315          2  interruption   \n",
       "3  11.119476  127.318597  2.178341  1.179688          2     no stress   \n",
       "4  13.590641   87.718281  2.221121  1.249612          2     no stress   \n",
       "\n",
       "          HR  no stress  interruption  time pressure  \n",
       "0  69.499952        0.0           1.0            0.0  \n",
       "1  64.363150        1.0           0.0            0.0  \n",
       "2  67.450066        1.0           0.0            0.0  \n",
       "3  68.809562        0.0           1.0            0.0  \n",
       "4  74.565728        0.0           1.0            0.0  "
      ]
     },
     "execution_count": 14,
     "metadata": {},
     "output_type": "execute_result"
    }
   ],
   "source": [
    "df_train.head()"
   ]
  },
  {
   "cell_type": "code",
   "execution_count": 15,
   "metadata": {
    "executionInfo": {
     "elapsed": 1190,
     "status": "ok",
     "timestamp": 1607323273980,
     "user": {
      "displayName": "Neeraj Tripathi",
      "photoUrl": "https://lh3.googleusercontent.com/a-/AOh14GiG3LuuDAWxS7JhSGXJchBx3AghDOUh5xfiDuVTOO4=s64",
      "userId": "06360701223369622935"
     },
     "user_tz": -330
    },
    "id": "jrt4eaP5HmKy"
   },
   "outputs": [],
   "source": [
    "# Removing the base columns of the principal components\n",
    "# Removing Dataset ID column\n",
    "# Removing \n",
    "df_train.drop(['VLF', 'LF', 'HF', 'datasetId', 'condition'], axis=1, inplace=True)\n",
    "df_test.drop(['VLF', 'LF', 'HF', 'datasetId', 'condition'], axis=1, inplace=True)"
   ]
  },
  {
   "cell_type": "code",
   "execution_count": 16,
   "metadata": {},
   "outputs": [
    {
     "data": {
      "text/plain": [
       "Index(['MEAN_RR', 'MEDIAN_RR', 'SDRR', 'RMSSD', 'SDSD', 'SDRR_RMSSD', 'pNN25',\n",
       "       'pNN50', 'KURT', 'SKEW', 'MEAN_REL_RR', 'MEDIAN_REL_RR', 'SDRR_REL_RR',\n",
       "       'RMSSD_REL_RR', 'SDSD_REL_RR', 'SDRR_RMSSD_REL_RR', 'KURT_REL_RR',\n",
       "       'SKEW_REL_RR', 'VLF_PCT', 'LF_PCT', 'LF_NU', 'HF_PCT', 'HF_NU', 'TP',\n",
       "       'LF_HF', 'HF_LF', 'SD1', 'SD2', 'sampen', 'higuci', 'HR', 'no stress',\n",
       "       'interruption', 'time pressure'],\n",
       "      dtype='object')"
      ]
     },
     "execution_count": 16,
     "metadata": {},
     "output_type": "execute_result"
    }
   ],
   "source": [
    "df_train.columns"
   ]
  },
  {
   "cell_type": "code",
   "execution_count": 17,
   "metadata": {
    "colab": {
     "base_uri": "https://localhost:8080/"
    },
    "executionInfo": {
     "elapsed": 872,
     "status": "ok",
     "timestamp": 1607323277499,
     "user": {
      "displayName": "Neeraj Tripathi",
      "photoUrl": "https://lh3.googleusercontent.com/a-/AOh14GiG3LuuDAWxS7JhSGXJchBx3AghDOUh5xfiDuVTOO4=s64",
      "userId": "06360701223369622935"
     },
     "user_tz": -330
    },
    "id": "oK-FD-Ln4x8j",
    "outputId": "be73edb7-3f7d-47a2-c466-1757cf41d30d"
   },
   "outputs": [
    {
     "data": {
      "text/plain": [
       "Index(['MEAN_RR', 'MEDIAN_RR', 'SDRR', 'RMSSD', 'SDSD', 'SDRR_RMSSD', 'pNN25',\n",
       "       'pNN50', 'KURT', 'SKEW', 'MEAN_REL_RR', 'MEDIAN_REL_RR', 'SDRR_REL_RR',\n",
       "       'RMSSD_REL_RR', 'SDSD_REL_RR', 'SDRR_RMSSD_REL_RR', 'KURT_REL_RR',\n",
       "       'SKEW_REL_RR', 'VLF_PCT', 'LF_PCT', 'LF_NU', 'HF_PCT', 'HF_NU', 'TP',\n",
       "       'LF_HF', 'HF_LF', 'SD1', 'SD2', 'sampen', 'higuci', 'no stress',\n",
       "       'interruption', 'time pressure'],\n",
       "      dtype='object')"
      ]
     },
     "execution_count": 17,
     "metadata": {},
     "output_type": "execute_result"
    }
   ],
   "source": [
    "df_test.columns"
   ]
  },
  {
   "cell_type": "code",
   "execution_count": 18,
   "metadata": {},
   "outputs": [
    {
     "name": "stdout",
     "output_type": "stream",
     "text": [
      "(369289, 34)\n",
      "(41033, 33)\n"
     ]
    }
   ],
   "source": [
    "print(df_train.shape)\n",
    "print(df_test.shape)"
   ]
  },
  {
   "cell_type": "code",
   "execution_count": 19,
   "metadata": {},
   "outputs": [],
   "source": [
    "# Dropping one of the columns from all the high correlation pairs\n",
    "df_train_lc = drop_high_correlations(df_train, 0.95)"
   ]
  },
  {
   "cell_type": "code",
   "execution_count": 20,
   "metadata": {},
   "outputs": [
    {
     "data": {
      "text/plain": [
       "(369289, 34)"
      ]
     },
     "execution_count": 20,
     "metadata": {},
     "output_type": "execute_result"
    }
   ],
   "source": [
    "df_train.shape"
   ]
  },
  {
   "cell_type": "code",
   "execution_count": 21,
   "metadata": {},
   "outputs": [
    {
     "data": {
      "text/plain": [
       "Index(['MEAN_RR', 'SDRR', 'RMSSD', 'SDRR_RMSSD', 'pNN50', 'KURT', 'SKEW',\n",
       "       'MEAN_REL_RR', 'MEDIAN_REL_RR', 'SDRR_REL_RR', 'RMSSD_REL_RR',\n",
       "       'SDRR_RMSSD_REL_RR', 'VLF_PCT', 'LF_NU', 'HF_PCT', 'TP', 'LF_HF',\n",
       "       'sampen', 'higuci', 'no stress', 'interruption', 'time pressure'],\n",
       "      dtype='object')"
      ]
     },
     "execution_count": 21,
     "metadata": {},
     "output_type": "execute_result"
    }
   ],
   "source": [
    "df_train_lc.drop('HR', axis=1).columns"
   ]
  },
  {
   "cell_type": "code",
   "execution_count": 22,
   "metadata": {},
   "outputs": [
    {
     "data": {
      "text/plain": [
       "(369289, 23)"
      ]
     },
     "execution_count": 22,
     "metadata": {},
     "output_type": "execute_result"
    }
   ],
   "source": [
    "df_train_lc.shape"
   ]
  },
  {
   "cell_type": "code",
   "execution_count": 23,
   "metadata": {},
   "outputs": [],
   "source": [
    "df_test_lc = df_test[df_train_lc.drop('HR', axis=1).columns]"
   ]
  },
  {
   "cell_type": "code",
   "execution_count": 24,
   "metadata": {},
   "outputs": [
    {
     "data": {
      "text/plain": [
       "(41033, 22)"
      ]
     },
     "execution_count": 24,
     "metadata": {},
     "output_type": "execute_result"
    }
   ],
   "source": [
    "df_test_lc.shape"
   ]
  },
  {
   "cell_type": "code",
   "execution_count": 25,
   "metadata": {
    "id": "4_qrcbsmHmKy",
    "outputId": "83bbfb3f-1dea-4bce-848c-5a34b1cec537"
   },
   "outputs": [
    {
     "name": "stdout",
     "output_type": "stream",
     "text": [
      "Wall time: 0 ns\n"
     ]
    }
   ],
   "source": [
    "%%time\n",
    "#sns.pairplot(data=df, diag_kind='kde')"
   ]
  },
  {
   "cell_type": "code",
   "execution_count": 26,
   "metadata": {
    "executionInfo": {
     "elapsed": 1434,
     "status": "ok",
     "timestamp": 1607323938603,
     "user": {
      "displayName": "Neeraj Tripathi",
      "photoUrl": "https://lh3.googleusercontent.com/a-/AOh14GiG3LuuDAWxS7JhSGXJchBx3AghDOUh5xfiDuVTOO4=s64",
      "userId": "06360701223369622935"
     },
     "user_tz": -330
    },
    "id": "IlYob_oVHmKz"
   },
   "outputs": [],
   "source": [
    "# Creating the training and testing sets\n",
    "X_train = df_train_lc.drop('HR', axis=1)\n",
    "X_test = df_test_lc\n",
    "y_train = pd.DataFrame(df_train_lc['HR'])"
   ]
  },
  {
   "cell_type": "code",
   "execution_count": 27,
   "metadata": {
    "colab": {
     "base_uri": "https://localhost:8080/"
    },
    "executionInfo": {
     "elapsed": 981,
     "status": "ok",
     "timestamp": 1607323939242,
     "user": {
      "displayName": "Neeraj Tripathi",
      "photoUrl": "https://lh3.googleusercontent.com/a-/AOh14GiG3LuuDAWxS7JhSGXJchBx3AghDOUh5xfiDuVTOO4=s64",
      "userId": "06360701223369622935"
     },
     "user_tz": -330
    },
    "id": "0OAqXj8OHmKz",
    "outputId": "5bca0522-13aa-4299-8981-1bedec91fcbc"
   },
   "outputs": [
    {
     "name": "stdout",
     "output_type": "stream",
     "text": [
      "(369289, 22)\n",
      "(41033, 22)\n"
     ]
    }
   ],
   "source": [
    "print(X_train.shape)\n",
    "print(X_test.shape)"
   ]
  },
  {
   "cell_type": "code",
   "execution_count": 28,
   "metadata": {},
   "outputs": [],
   "source": [
    "# Applying power transform. standardize=True would apply the Standard Scaler also\n",
    "pt = preprocessing.PowerTransformer(method='yeo-johnson', standardize=True)\n",
    "X_train_PT = pt.fit_transform(X_train)\n",
    "X_test_PT = pt.transform(X_test)"
   ]
  },
  {
   "cell_type": "code",
   "execution_count": 29,
   "metadata": {
    "colab": {
     "base_uri": "https://localhost:8080/"
    },
    "executionInfo": {
     "elapsed": 3590,
     "status": "ok",
     "timestamp": 1607324567362,
     "user": {
      "displayName": "Neeraj Tripathi",
      "photoUrl": "https://lh3.googleusercontent.com/a-/AOh14GiG3LuuDAWxS7JhSGXJchBx3AghDOUh5xfiDuVTOO4=s64",
      "userId": "06360701223369622935"
     },
     "user_tz": -330
    },
    "id": "SJDV1W5GHmKz",
    "outputId": "0c27f8f2-a9be-48ae-c057-f6958aee39c0"
   },
   "outputs": [
    {
     "name": "stdout",
     "output_type": "stream",
     "text": [
      "[6.47605423 4.32359647 3.57966175 1.59392245 1.2054449  1.06034141\n",
      " 1.04318135 0.89145007 0.5833419  0.43713352]\n",
      "[0.2943653  0.19652658 0.16271146 0.07245082 0.0547928  0.04819721\n",
      " 0.04741721 0.04052035 0.02651547 0.01986965]\n"
     ]
    }
   ],
   "source": [
    "# Applying PCA\n",
    "from sklearn.decomposition import PCA\n",
    "# Limiting the number of components to 10\n",
    "pca = PCA(n_components=10)\n",
    "X_train_PCA = pca.fit_transform(X_train_PT)\n",
    "X_test_PCA = pca.transform(X_test_PT)\n",
    "print(pca.explained_variance_)\n",
    "print(pca.explained_variance_ratio_)"
   ]
  },
  {
   "cell_type": "markdown",
   "metadata": {},
   "source": [
    "#### Using BaggedSVM"
   ]
  },
  {
   "cell_type": "code",
   "execution_count": null,
   "metadata": {},
   "outputs": [
    {
     "name": "stdout",
     "output_type": "stream",
     "text": [
      "20/12/2020 17:55:19\n"
     ]
    }
   ],
   "source": [
    "print(datetime.now().strftime(\"%d/%m/%Y %H:%M:%S\"))\n",
    "\n",
    "from sklearn.svm import SVR\n",
    "from sklearn.ensemble import BaggingRegressor\n",
    "svbr = BaggingRegressor(base_estimator=SVR(), n_estimators=100, random_state=76).fit(X_train_PCA, y_train.values.ravel())\n",
    "y_pred_svbr = svbr.predict(X_test_PCA)\n",
    "\n",
    "print(datetime.now().strftime(\"%d/%m/%Y %H:%M:%S\"))"
   ]
  },
  {
   "cell_type": "code",
   "execution_count": null,
   "metadata": {},
   "outputs": [],
   "source": []
  },
  {
   "cell_type": "code",
   "execution_count": null,
   "metadata": {},
   "outputs": [],
   "source": []
  },
  {
   "cell_type": "code",
   "execution_count": null,
   "metadata": {},
   "outputs": [],
   "source": []
  },
  {
   "cell_type": "code",
   "execution_count": null,
   "metadata": {},
   "outputs": [],
   "source": []
  },
  {
   "cell_type": "markdown",
   "metadata": {
    "id": "R_STqBUpHmKz"
   },
   "source": [
    "#### Using Random forest"
   ]
  },
  {
   "cell_type": "code",
   "execution_count": null,
   "metadata": {
    "colab": {
     "base_uri": "https://localhost:8080/"
    },
    "executionInfo": {
     "elapsed": 699035,
     "status": "ok",
     "timestamp": 1607327414537,
     "user": {
      "displayName": "Neeraj Tripathi",
      "photoUrl": "https://lh3.googleusercontent.com/a-/AOh14GiG3LuuDAWxS7JhSGXJchBx3AghDOUh5xfiDuVTOO4=s64",
      "userId": "06360701223369622935"
     },
     "user_tz": -330
    },
    "id": "DLBq45dxHmKz",
    "outputId": "19726cf7-bc06-4734-a6df-6fc24c1aa057"
   },
   "outputs": [
    {
     "name": "stdout",
     "output_type": "stream",
     "text": [
      "20/12/2020 17:56:29\n"
     ]
    }
   ],
   "source": [
    "%%time\n",
    "from sklearn.ensemble import RandomForestRegressor\n",
    "from sklearn.metrics import mean_squared_error, mean_absolute_error\n",
    "regr = RandomForestRegressor(criterion='mae', max_depth=5)\n",
    "print(datetime.now().strftime(\"%d/%m/%Y %H:%M:%S\"))\n",
    "regr.fit(X_train_PCA, y_train.values.ravel())\n",
    "y_pred_rf = regr.predict(X_test_PCA)\n",
    "print('Random Forest Performance Parameters')\n",
    "print('Training Score: {}'.format(regr.score(X_train_PCA, y_train)))\n",
    "print(datetime.now().strftime(\"%d/%m/%Y %H:%M:%S\"))"
   ]
  },
  {
   "cell_type": "code",
   "execution_count": null,
   "metadata": {
    "colab": {
     "base_uri": "https://localhost:8080/"
    },
    "executionInfo": {
     "elapsed": 1680,
     "status": "ok",
     "timestamp": 1607325980739,
     "user": {
      "displayName": "Neeraj Tripathi",
      "photoUrl": "https://lh3.googleusercontent.com/a-/AOh14GiG3LuuDAWxS7JhSGXJchBx3AghDOUh5xfiDuVTOO4=s64",
      "userId": "06360701223369622935"
     },
     "user_tz": -330
    },
    "id": "kBAfe-aTHmKz",
    "outputId": "3ce206dd-3383-4cb5-f48c-41c002add62c"
   },
   "outputs": [],
   "source": [
    "regr.get_params(deep=True)"
   ]
  },
  {
   "cell_type": "code",
   "execution_count": null,
   "metadata": {
    "id": "DEd6H9L3qhY8"
   },
   "outputs": [],
   "source": [
    "df_f = pd.DataFrame(y_pred_rf)"
   ]
  },
  {
   "cell_type": "code",
   "execution_count": null,
   "metadata": {},
   "outputs": [],
   "source": [
    "df_sub = pd.concat([df_nlf_test['uuid'], df_f], axis=1, sort=False)"
   ]
  },
  {
   "cell_type": "code",
   "execution_count": null,
   "metadata": {},
   "outputs": [],
   "source": [
    "df_sub.columns = ['uuid', 'HR']"
   ]
  },
  {
   "cell_type": "code",
   "execution_count": null,
   "metadata": {},
   "outputs": [],
   "source": [
    "df_sub.to_csv('RF_submission.csv',index=False)"
   ]
  },
  {
   "cell_type": "markdown",
   "metadata": {
    "id": "Lrl6Vdq0HmKz"
   },
   "source": [
    "#### Using ADABoost Regressor"
   ]
  },
  {
   "cell_type": "code",
   "execution_count": null,
   "metadata": {
    "colab": {
     "base_uri": "https://localhost:8080/"
    },
    "executionInfo": {
     "elapsed": 854037,
     "status": "ok",
     "timestamp": 1607325635600,
     "user": {
      "displayName": "Neeraj Tripathi",
      "photoUrl": "https://lh3.googleusercontent.com/a-/AOh14GiG3LuuDAWxS7JhSGXJchBx3AghDOUh5xfiDuVTOO4=s64",
      "userId": "06360701223369622935"
     },
     "user_tz": -330
    },
    "id": "H1TgnatbHmKz",
    "outputId": "4607f3ac-59e2-47b6-ab01-5a5e10608397"
   },
   "outputs": [],
   "source": [
    "from sklearn.ensemble import AdaBoostRegressor\n",
    "adaregr = AdaBoostRegressor(n_estimators=100)\n",
    "print(datetime.now().strftime(\"%d/%m/%Y %H:%M:%S\"))\n",
    "adaregr.fit(X_train_PCA, y_train.values.ravel())\n",
    "y_pred_adab = adaregr.predict(X_test_PCA)\n",
    "print('ADABoost Performance Parameters')\n",
    "print('Training Score: {}'.format(adaregr.score(X_train_PCA, y_train)))\n",
    "print(datetime.now().strftime(\"%d/%m/%Y %H:%M:%S\"))"
   ]
  },
  {
   "cell_type": "code",
   "execution_count": null,
   "metadata": {
    "colab": {
     "base_uri": "https://localhost:8080/"
    },
    "executionInfo": {
     "elapsed": 851581,
     "status": "ok",
     "timestamp": 1607325635601,
     "user": {
      "displayName": "Neeraj Tripathi",
      "photoUrl": "https://lh3.googleusercontent.com/a-/AOh14GiG3LuuDAWxS7JhSGXJchBx3AghDOUh5xfiDuVTOO4=s64",
      "userId": "06360701223369622935"
     },
     "user_tz": -330
    },
    "id": "3RFx6kXwHmKz",
    "outputId": "a634fb3f-381d-4e21-e565-033828c80baf"
   },
   "outputs": [],
   "source": [
    "adaregr.get_params(deep=True)"
   ]
  },
  {
   "cell_type": "markdown",
   "metadata": {
    "id": "q-ftSGWbHmKz"
   },
   "source": [
    "#### Using Gradient Boosting Regressor"
   ]
  },
  {
   "cell_type": "code",
   "execution_count": null,
   "metadata": {
    "colab": {
     "base_uri": "https://localhost:8080/"
    },
    "executionInfo": {
     "elapsed": 1115744,
     "status": "ok",
     "timestamp": 1607325901951,
     "user": {
      "displayName": "Neeraj Tripathi",
      "photoUrl": "https://lh3.googleusercontent.com/a-/AOh14GiG3LuuDAWxS7JhSGXJchBx3AghDOUh5xfiDuVTOO4=s64",
      "userId": "06360701223369622935"
     },
     "user_tz": -330
    },
    "id": "AVIj-Pz7HmKz",
    "outputId": "9e50f31f-10d6-4e11-9645-11a93a63f9d8"
   },
   "outputs": [],
   "source": [
    "from sklearn.ensemble import GradientBoostingRegressor\n",
    "gbregr = GradientBoostingRegressor(min_samples_leaf=5)\n",
    "print(datetime.now().strftime(\"%d/%m/%Y %H:%M:%S\"))\n",
    "gbregr.fit(X_train_PCA, y_train.values.ravel())\n",
    "y_pred_gbr = gbregr.predict(X_test_PCA)\n",
    "print('Gradient Boost Performance Parameters')\n",
    "print('Training Score: {}'.format(gbregr.score(X_train_PCA, y_train)))\n",
    "print(datetime.now().strftime(\"%d/%m/%Y %H:%M:%S\"))"
   ]
  },
  {
   "cell_type": "code",
   "execution_count": null,
   "metadata": {
    "colab": {
     "base_uri": "https://localhost:8080/"
    },
    "executionInfo": {
     "elapsed": 1114023,
     "status": "ok",
     "timestamp": 1607325901952,
     "user": {
      "displayName": "Neeraj Tripathi",
      "photoUrl": "https://lh3.googleusercontent.com/a-/AOh14GiG3LuuDAWxS7JhSGXJchBx3AghDOUh5xfiDuVTOO4=s64",
      "userId": "06360701223369622935"
     },
     "user_tz": -330
    },
    "id": "4SGsIEZBHmKz",
    "outputId": "02a47d9d-23fc-45cf-e481-e9c03f4ff155"
   },
   "outputs": [],
   "source": [
    "gbregr.get_params(deep=True)"
   ]
  },
  {
   "cell_type": "markdown",
   "metadata": {
    "id": "4d907S6xHmKz"
   },
   "source": [
    "#### Using XGBoost"
   ]
  },
  {
   "cell_type": "code",
   "execution_count": null,
   "metadata": {
    "executionInfo": {
     "elapsed": 1110107,
     "status": "ok",
     "timestamp": 1607325901953,
     "user": {
      "displayName": "Neeraj Tripathi",
      "photoUrl": "https://lh3.googleusercontent.com/a-/AOh14GiG3LuuDAWxS7JhSGXJchBx3AghDOUh5xfiDuVTOO4=s64",
      "userId": "06360701223369622935"
     },
     "user_tz": -330
    },
    "id": "1LY7YfjOHmKz"
   },
   "outputs": [],
   "source": [
    "import xgboost as xgb"
   ]
  },
  {
   "cell_type": "code",
   "execution_count": null,
   "metadata": {
    "colab": {
     "base_uri": "https://localhost:8080/"
    },
    "executionInfo": {
     "elapsed": 1186118,
     "status": "ok",
     "timestamp": 1607325979024,
     "user": {
      "displayName": "Neeraj Tripathi",
      "photoUrl": "https://lh3.googleusercontent.com/a-/AOh14GiG3LuuDAWxS7JhSGXJchBx3AghDOUh5xfiDuVTOO4=s64",
      "userId": "06360701223369622935"
     },
     "user_tz": -330
    },
    "id": "7ky6c8yJHmK0",
    "outputId": "c1c34f00-e05e-44bb-90e0-2adf9cbefa64"
   },
   "outputs": [],
   "source": [
    "xgbst = xgb.XGBRegressor(n_estimators=100, reg_lambda=1, gamma=0, max_depth=5)\n",
    "print(datetime.now().strftime(\"%d/%m/%Y %H:%M:%S\"))\n",
    "xgbst.fit(X_train_PCA, y_train.values.ravel())\n",
    "y_pred_xgb = xgbst.predict(X_test_PCA)\n",
    "print('ADABoost Performance Parameters')\n",
    "print('Training Score: {}'.format(xgbst.score(X_train_PCA, y_train)))\n",
    "print(datetime.now().strftime(\"%d/%m/%Y %H:%M:%S\"))"
   ]
  },
  {
   "cell_type": "code",
   "execution_count": null,
   "metadata": {
    "colab": {
     "base_uri": "https://localhost:8080/"
    },
    "executionInfo": {
     "elapsed": 1672,
     "status": "ok",
     "timestamp": 1607325980740,
     "user": {
      "displayName": "Neeraj Tripathi",
      "photoUrl": "https://lh3.googleusercontent.com/a-/AOh14GiG3LuuDAWxS7JhSGXJchBx3AghDOUh5xfiDuVTOO4=s64",
      "userId": "06360701223369622935"
     },
     "user_tz": -330
    },
    "id": "7ZtGLiiwESLn",
    "outputId": "f6b766f1-de04-4299-b674-15d0d01612b9"
   },
   "outputs": [],
   "source": [
    "xgbst.get_params(deep=True)"
   ]
  },
  {
   "cell_type": "code",
   "execution_count": null,
   "metadata": {
    "id": "y0VSB7Nrqd2O"
   },
   "outputs": [],
   "source": [
    "y_pred_rf"
   ]
  },
  {
   "cell_type": "code",
   "execution_count": null,
   "metadata": {},
   "outputs": [],
   "source": []
  }
 ],
 "metadata": {
  "colab": {
   "name": "Hackathon Project.ipynb",
   "provenance": [],
   "toc_visible": true
  },
  "kernelspec": {
   "display_name": "Python 3",
   "language": "python",
   "name": "python3"
  },
  "language_info": {
   "codemirror_mode": {
    "name": "ipython",
    "version": 3
   },
   "file_extension": ".py",
   "mimetype": "text/x-python",
   "name": "python",
   "nbconvert_exporter": "python",
   "pygments_lexer": "ipython3",
   "version": "3.7.4"
  }
 },
 "nbformat": 4,
 "nbformat_minor": 4
}
